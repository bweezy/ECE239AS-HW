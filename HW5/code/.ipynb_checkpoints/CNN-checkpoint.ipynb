{
 "cells": [
  {
   "cell_type": "markdown",
   "metadata": {},
   "source": [
    "# Convolutional neural networks\n",
    "\n",
    "In this notebook, we'll put together our convolutional layers to implement a 3-layer CNN.  Then, we'll ask you to implement a CNN that can achieve > 65% validation error on CIFAR-10.\n",
    "\n",
    "CS231n has built a solid API for building these modular frameworks and training them, and we will use their very well implemented framework as opposed to \"reinventing the wheel.\"  This includes using their Solver, various utility functions, their layer structure, and their implementation of fast CNN layers.  This also includes nndl.fc_net, nndl.layers, and nndl.layer_utils.  As in prior assignments, we thank Serena Yeung & Justin Johnson for permission to use code written for the CS 231n class (cs231n.stanford.edu).  \n",
    "\n",
    "If you have not completed the Spatial BatchNorm Notebook, please see the following description from that notebook:\n",
    "\n",
    "Please copy and paste your prior implemented code from HW #4 to start this assignment.  If you did not correctly implement the layers in HW #4, you may collaborate with a classmate to use their layer implementations from HW #4.  You may also visit TA or Prof OH to correct your implementation.  \n",
    "\n",
    "You'll want to copy and paste from HW #4:\n",
    "    - layers.py for your FC network layers, as well as batchnorm and dropout.\n",
    "    - layer_utils.py for your combined FC network layers.\n",
    "    - optim.py for your optimizers.\n",
    "\n",
    "Be sure to place these in the `nndl/` directory so they're imported correctly.  Note, as announced in class, we will not be releasing our solutions."
   ]
  },
  {
   "cell_type": "code",
   "execution_count": 3,
   "metadata": {},
   "outputs": [],
   "source": [
    "# As usual, a bit of setup\n",
    "\n",
    "import numpy as np\n",
    "import matplotlib.pyplot as plt\n",
    "from nndl.cnn import *\n",
    "from cs231n.data_utils import get_CIFAR10_data\n",
    "from cs231n.gradient_check import eval_numerical_gradient_array, eval_numerical_gradient\n",
    "from nndl.layers import *\n",
    "from nndl.conv_layers import *\n",
    "from cs231n.fast_layers import *\n",
    "from cs231n.solver import Solver\n",
    "\n",
    "%matplotlib inline\n",
    "plt.rcParams['figure.figsize'] = (10.0, 8.0) # set default size of plots\n",
    "plt.rcParams['image.interpolation'] = 'nearest'\n",
    "plt.rcParams['image.cmap'] = 'gray'\n",
    "\n",
    "# for auto-reloading external modules\n",
    "# see http://stackoverflow.com/questions/1907993/autoreload-of-modules-in-ipython\n",
    "%load_ext autoreload\n",
    "%autoreload 2\n",
    "\n",
    "def rel_error(x, y):\n",
    "  \"\"\" returns relative error \"\"\"\n",
    "  return np.max(np.abs(x - y) / (np.maximum(1e-8, np.abs(x) + np.abs(y))))"
   ]
  },
  {
   "cell_type": "code",
   "execution_count": 4,
   "metadata": {},
   "outputs": [
    {
     "name": "stdout",
     "output_type": "stream",
     "text": [
      "X_val: (1000, 3, 32, 32) \n",
      "X_train: (49000, 3, 32, 32) \n",
      "X_test: (1000, 3, 32, 32) \n",
      "y_val: (1000,) \n",
      "y_train: (49000,) \n",
      "y_test: (1000,) \n"
     ]
    }
   ],
   "source": [
    "# Load the (preprocessed) CIFAR10 data.\n",
    "\n",
    "data = get_CIFAR10_data()\n",
    "for k in data.keys():\n",
    "  print('{}: {} '.format(k, data[k].shape))"
   ]
  },
  {
   "cell_type": "markdown",
   "metadata": {},
   "source": [
    "## Three layer CNN\n",
    "\n",
    "In this notebook, you will implement a three layer CNN.  The `ThreeLayerConvNet` class is in `nndl/cnn.py`.  You'll need to modify that code for this section, including the initialization, as well as the calculation of the loss and gradients.  You should be able to use the building blocks you have either earlier coded or that we have provided.  Be sure to use the fast layers.\n",
    "\n",
    "The architecture of this CNN will be:\n",
    "\n",
    "conv - relu - 2x2 max pool - affine - relu - affine - softmax\n",
    "\n",
    "We won't use batchnorm yet.  You've also done enough of these to know how to debug; use the cells below.\n",
    "\n",
    "Note: As we are implementing several layers CNN networks. The gradient error can be expected for the `eval_numerical_gradient()` function. If your `W1 max relative error` and `W2 max relative error` are around or below 0.01, they should be acceptable. Other errors should be less than 1e-5. "
   ]
  },
  {
   "cell_type": "code",
   "execution_count": 8,
   "metadata": {},
   "outputs": [
    {
     "name": "stdout",
     "output_type": "stream",
     "text": [
      "W1 max relative error: 0.00292987249321\n",
      "W2 max relative error: 0.0155920132487\n",
      "W3 max relative error: 7.11899484973e-05\n",
      "b1 max relative error: 5.0406340691e-05\n",
      "b2 max relative error: 1.92297083123e-05\n",
      "b3 max relative error: 1.33771926975e-09\n"
     ]
    }
   ],
   "source": [
    "num_inputs = 2\n",
    "input_dim = (3, 16, 16)\n",
    "reg = 0.0\n",
    "num_classes = 10\n",
    "X = np.random.randn(num_inputs, *input_dim)\n",
    "y = np.random.randint(num_classes, size=num_inputs)\n",
    "\n",
    "model = ThreeLayerConvNet(num_filters=3, filter_size=3,\n",
    "                          input_dim=input_dim, hidden_dim=7,\n",
    "                          dtype=np.float64)\n",
    "loss, grads = model.loss(X, y)\n",
    "for param_name in sorted(grads):\n",
    "    f = lambda _: model.loss(X, y)[0]\n",
    "    param_grad_num = eval_numerical_gradient(f, model.params[param_name], verbose=False, h=1e-6)\n",
    "    e = rel_error(param_grad_num, grads[param_name])\n",
    "    print('{} max relative error: {}'.format(param_name, rel_error(param_grad_num, grads[param_name])))"
   ]
  },
  {
   "cell_type": "markdown",
   "metadata": {},
   "source": [
    "### Overfit small dataset\n",
    "\n",
    "To check your CNN implementation, let's overfit a small dataset."
   ]
  },
  {
   "cell_type": "code",
   "execution_count": 9,
   "metadata": {},
   "outputs": [
    {
     "name": "stdout",
     "output_type": "stream",
     "text": [
      "(Iteration 1 / 40) loss: 2.398724\n",
      "(Epoch 0 / 20) train acc: 0.240000; val_acc: 0.123000\n",
      "(Iteration 2 / 40) loss: 3.658866\n",
      "(Epoch 1 / 20) train acc: 0.170000; val_acc: 0.113000\n",
      "(Iteration 3 / 40) loss: 2.623158\n",
      "(Iteration 4 / 40) loss: 2.581057\n",
      "(Epoch 2 / 20) train acc: 0.230000; val_acc: 0.149000\n",
      "(Iteration 5 / 40) loss: 2.198190\n",
      "(Iteration 6 / 40) loss: 2.208519\n",
      "(Epoch 3 / 20) train acc: 0.260000; val_acc: 0.119000\n",
      "(Iteration 7 / 40) loss: 2.139135\n",
      "(Iteration 8 / 40) loss: 1.961251\n",
      "(Epoch 4 / 20) train acc: 0.370000; val_acc: 0.166000\n",
      "(Iteration 9 / 40) loss: 1.886949\n",
      "(Iteration 10 / 40) loss: 1.919783\n",
      "(Epoch 5 / 20) train acc: 0.440000; val_acc: 0.165000\n",
      "(Iteration 11 / 40) loss: 1.434302\n",
      "(Iteration 12 / 40) loss: 1.668035\n",
      "(Epoch 6 / 20) train acc: 0.540000; val_acc: 0.192000\n",
      "(Iteration 13 / 40) loss: 1.352097\n",
      "(Iteration 14 / 40) loss: 1.305671\n",
      "(Epoch 7 / 20) train acc: 0.660000; val_acc: 0.206000\n",
      "(Iteration 15 / 40) loss: 1.089647\n",
      "(Iteration 16 / 40) loss: 1.030339\n",
      "(Epoch 8 / 20) train acc: 0.720000; val_acc: 0.195000\n",
      "(Iteration 17 / 40) loss: 0.933218\n",
      "(Iteration 18 / 40) loss: 0.653353\n",
      "(Epoch 9 / 20) train acc: 0.730000; val_acc: 0.195000\n",
      "(Iteration 19 / 40) loss: 0.860156\n",
      "(Iteration 20 / 40) loss: 0.956476\n",
      "(Epoch 10 / 20) train acc: 0.820000; val_acc: 0.213000\n",
      "(Iteration 21 / 40) loss: 0.673383\n",
      "(Iteration 22 / 40) loss: 0.626792\n",
      "(Epoch 11 / 20) train acc: 0.860000; val_acc: 0.203000\n",
      "(Iteration 23 / 40) loss: 0.410349\n",
      "(Iteration 24 / 40) loss: 0.297234\n",
      "(Epoch 12 / 20) train acc: 0.890000; val_acc: 0.201000\n",
      "(Iteration 25 / 40) loss: 0.280284\n",
      "(Iteration 26 / 40) loss: 0.206168\n",
      "(Epoch 13 / 20) train acc: 0.930000; val_acc: 0.180000\n",
      "(Iteration 27 / 40) loss: 0.242705\n",
      "(Iteration 28 / 40) loss: 0.332490\n",
      "(Epoch 14 / 20) train acc: 0.970000; val_acc: 0.197000\n",
      "(Iteration 29 / 40) loss: 0.138159\n",
      "(Iteration 30 / 40) loss: 0.265789\n",
      "(Epoch 15 / 20) train acc: 0.980000; val_acc: 0.211000\n",
      "(Iteration 31 / 40) loss: 0.064454\n",
      "(Iteration 32 / 40) loss: 0.102391\n",
      "(Epoch 16 / 20) train acc: 0.990000; val_acc: 0.217000\n",
      "(Iteration 33 / 40) loss: 0.049662\n",
      "(Iteration 34 / 40) loss: 0.098386\n",
      "(Epoch 17 / 20) train acc: 0.990000; val_acc: 0.217000\n",
      "(Iteration 35 / 40) loss: 0.080395\n",
      "(Iteration 36 / 40) loss: 0.069240\n",
      "(Epoch 18 / 20) train acc: 1.000000; val_acc: 0.217000\n",
      "(Iteration 37 / 40) loss: 0.026617\n",
      "(Iteration 38 / 40) loss: 0.049096\n",
      "(Epoch 19 / 20) train acc: 0.980000; val_acc: 0.223000\n",
      "(Iteration 39 / 40) loss: 0.038309\n",
      "(Iteration 40 / 40) loss: 0.021915\n",
      "(Epoch 20 / 20) train acc: 1.000000; val_acc: 0.215000\n"
     ]
    }
   ],
   "source": [
    "num_train = 100\n",
    "small_data = {\n",
    "  'X_train': data['X_train'][:num_train],\n",
    "  'y_train': data['y_train'][:num_train],\n",
    "  'X_val': data['X_val'],\n",
    "  'y_val': data['y_val'],\n",
    "}\n",
    "\n",
    "model = ThreeLayerConvNet(weight_scale=1e-2)\n",
    "\n",
    "solver = Solver(model, small_data,\n",
    "                num_epochs=20, batch_size=50,\n",
    "                update_rule='adam',\n",
    "                optim_config={\n",
    "                  'learning_rate': 1e-3,\n",
    "                },\n",
    "                verbose=True, print_every=1)\n",
    "solver.train()"
   ]
  },
  {
   "cell_type": "code",
   "execution_count": 10,
   "metadata": {},
   "outputs": [
    {
     "data": {
      "image/png": "[encoded data removed]",
      "text/plain": [
       "<matplotlib.figure.Figure at 0x7ff90c5d0cd0>"
      ]
     },
     "metadata": {},
     "output_type": "display_data"
    }
   ],
   "source": [
    "plt.subplot(2, 1, 1)\n",
    "plt.plot(solver.loss_history, 'o')\n",
    "plt.xlabel('iteration')\n",
    "plt.ylabel('loss')\n",
    "\n",
    "plt.subplot(2, 1, 2)\n",
    "plt.plot(solver.train_acc_history, '-o')\n",
    "plt.plot(solver.val_acc_history, '-o')\n",
    "plt.legend(['train', 'val'], loc='upper left')\n",
    "plt.xlabel('epoch')\n",
    "plt.ylabel('accuracy')\n",
    "plt.show()"
   ]
  },
  {
   "cell_type": "markdown",
   "metadata": {},
   "source": [
    "## Train the network\n",
    "\n",
    "Now we train the 3 layer CNN on CIFAR-10 and assess its accuracy."
   ]
  },
  {
   "cell_type": "code",
   "execution_count": 11,
   "metadata": {
    "scrolled": false
   },
   "outputs": [
    {
     "name": "stdout",
     "output_type": "stream",
     "text": [
      "(Iteration 1 / 980) loss: 2.304511\n",
      "(Epoch 0 / 1) train acc: 0.128000; val_acc: 0.139000\n",
      "(Iteration 21 / 980) loss: 2.231854\n",
      "(Iteration 41 / 980) loss: 2.148167\n",
      "(Iteration 61 / 980) loss: 1.939863\n",
      "(Iteration 81 / 980) loss: 1.755125\n",
      "(Iteration 101 / 980) loss: 1.797583\n",
      "(Iteration 121 / 980) loss: 1.717661\n",
      "(Iteration 141 / 980) loss: 1.942601\n",
      "(Iteration 161 / 980) loss: 1.737939\n",
      "(Iteration 181 / 980) loss: 1.765807\n",
      "(Iteration 201 / 980) loss: 1.970439\n",
      "(Iteration 221 / 980) loss: 1.943240\n",
      "(Iteration 241 / 980) loss: 1.789837\n",
      "(Iteration 261 / 980) loss: 1.686366\n",
      "(Iteration 281 / 980) loss: 1.725475\n",
      "(Iteration 301 / 980) loss: 1.504726\n",
      "(Iteration 321 / 980) loss: 1.849093\n",
      "(Iteration 341 / 980) loss: 1.331362\n",
      "(Iteration 361 / 980) loss: 2.033096\n",
      "(Iteration 381 / 980) loss: 1.936199\n",
      "(Iteration 401 / 980) loss: 1.587918\n",
      "(Iteration 421 / 980) loss: 1.521933\n",
      "(Iteration 441 / 980) loss: 1.531843\n",
      "(Iteration 461 / 980) loss: 1.640172\n",
      "(Iteration 481 / 980) loss: 1.494496\n",
      "(Iteration 501 / 980) loss: 1.694095\n",
      "(Iteration 521 / 980) loss: 1.676323\n",
      "(Iteration 541 / 980) loss: 1.590233\n",
      "(Iteration 561 / 980) loss: 1.577411\n",
      "(Iteration 581 / 980) loss: 1.630510\n",
      "(Iteration 601 / 980) loss: 1.802195\n",
      "(Iteration 621 / 980) loss: 1.790504\n",
      "(Iteration 641 / 980) loss: 1.791112\n",
      "(Iteration 661 / 980) loss: 1.720310\n",
      "(Iteration 681 / 980) loss: 1.328894\n",
      "(Iteration 701 / 980) loss: 1.714998\n",
      "(Iteration 721 / 980) loss: 1.439794\n",
      "(Iteration 741 / 980) loss: 1.322611\n",
      "(Iteration 761 / 980) loss: 1.479585\n",
      "(Iteration 781 / 980) loss: 1.402265\n",
      "(Iteration 801 / 980) loss: 1.576688\n",
      "(Iteration 821 / 980) loss: 1.518877\n",
      "(Iteration 841 / 980) loss: 1.505881\n",
      "(Iteration 861 / 980) loss: 1.708602\n",
      "(Iteration 881 / 980) loss: 1.465694\n",
      "(Iteration 901 / 980) loss: 1.518513\n",
      "(Iteration 921 / 980) loss: 1.471163\n",
      "(Iteration 941 / 980) loss: 1.342395\n",
      "(Iteration 961 / 980) loss: 1.610166\n",
      "(Epoch 1 / 1) train acc: 0.494000; val_acc: 0.472000\n"
     ]
    }
   ],
   "source": [
    "model = ThreeLayerConvNet(weight_scale=0.001, hidden_dim=500, reg=0.001)\n",
    "\n",
    "solver = Solver(model, data,\n",
    "                num_epochs=1, batch_size=50,\n",
    "                update_rule='adam',\n",
    "                optim_config={\n",
    "                  'learning_rate': 1e-3,\n",
    "                },\n",
    "                verbose=True, print_every=20)\n",
    "solver.train()"
   ]
  },
  {
   "cell_type": "markdown",
   "metadata": {},
   "source": [
    "# Get > 65% validation accuracy on CIFAR-10.\n",
    "\n",
    "In the last part of the assignment, we'll now ask you to train a CNN to get better than 65% validation accuracy on CIFAR-10.\n",
    "\n",
    "### Things you should try:\n",
    "- Filter size: Above we used 7x7; but VGGNet and onwards showed stacks of 3x3 filters are good.  \n",
    "- Number of filters: Above we used 32 filters. Do more or fewer do better?\n",
    "- Batch normalization: Try adding spatial batch normalization after convolution layers and vanilla batch normalization aafter affine layers. Do your networks train faster?\n",
    "- Network architecture: Can a deeper CNN do better?  Consider these architectures:\n",
    "    - [conv-relu-pool]xN - conv - relu - [affine]xM - [softmax or SVM]\n",
    "    - [conv-relu-pool]XN - [affine]XM - [softmax or SVM]\n",
    "    - [conv-relu-conv-relu-pool]xN - [affine]xM - [softmax or SVM]\n",
    "\n",
    "### Tips for training\n",
    "For each network architecture that you try, you should tune the learning rate and regularization strength. When doing this there are a couple important things to keep in mind:\n",
    "\n",
    "- If the parameters are working well, you should see improvement within a few hundred iterations\n",
    "- Remember the coarse-to-fine approach for hyperparameter tuning: start by testing a large range of hyperparameters for just a few training iterations to find the combinations of parameters that are working at all.\n",
    "- Once you have found some sets of parameters that seem to work, search more finely around these parameters. You may need to train for more epochs."
   ]
  },
  {
   "cell_type": "code",
   "execution_count": 5,
   "metadata": {
    "scrolled": false
   },
   "outputs": [],
   "source": [
    "# ================================================================ #\n",
    "# YOUR CODE HERE:\n",
    "#   Implement a CNN to achieve greater than 65% validation accuracy\n",
    "#   on CIFAR-10.\n",
    "# ================================================================ #\n",
    "model = ThreeLayerConvNet(weight_scale=0.01, hidden_dim=1000, reg=0.001)\n",
    "\n",
    "solver = Solver(model, data,\n",
    "                num_epochs=20, batch_size=200,\n",
    "                update_rule='adam',\n",
    "                optim_config={\n",
    "                  'learning_rate': 1e-3,\n",
    "                },\n",
    "                verbose=True, print_every=20)\n",
    "\n",
    "solver.train()\n",
    "\n",
    "# ================================================================ #\n",
    "# END YOUR CODE HERE\n",
    "# ================================================================ #\n"
   ]
  },
  {
   "cell_type": "code",
   "execution_count": null,
   "metadata": {},
   "outputs": [],
   "source": []
  }
 ],
 "metadata": {
  "kernelspec": {
   "display_name": "Python 2",
   "language": "python",
   "name": "python2"
  },
  "language_info": {
   "codemirror_mode": {
    "name": "ipython",
    "version": 2
   },
   "file_extension": ".py",
   "mimetype": "text/x-python",
   "name": "python",
   "nbconvert_exporter": "python",
   "pygments_lexer": "ipython2",
   "version": "2.7.12"
  }
 },
 "nbformat": 4,
 "nbformat_minor": 2
}

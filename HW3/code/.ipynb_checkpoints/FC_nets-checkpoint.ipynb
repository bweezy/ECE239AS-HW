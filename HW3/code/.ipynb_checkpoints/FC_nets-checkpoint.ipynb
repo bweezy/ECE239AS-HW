{
 "cells": [
  {
   "cell_type": "markdown",
   "metadata": {},
   "source": [
    "# Fully connected networks\n",
    "\n",
    "In the previous notebook, you implemented a simple two-layer neural network class.  However, this class is not modular.  If you wanted to change the number of layers, you would need to write a new loss and gradient function.  If you wanted to optimize the network with different optimizers, you'd need to write new training functions.  If you wanted to incorporate regularizations, you'd have to modify the loss and gradient function.  \n",
    "\n",
    "Instead of having to modify functions each time, for the rest of the class, we'll work in a more modular framework where we define forward and backward layers that calculate losses and gradients respectively.  Since the forward and backward layers share intermediate values that are useful for calculating both the loss and the gradient, we'll also have these function return \"caches\" which store useful intermediate values.\n",
    "\n",
    "The goal is that through this modular design, we can build different sized neural networks for various applications.\n",
    "\n",
    "In this HW #3, we'll define the basic architecture, and in HW #4, we'll build on this framework to implement different optimizers and regularizations (like BatchNorm and Dropout).\n",
    "\n",
    "CS231n has built a solid API for building these modular frameworks and training them, and we will use their very well implemented framework as opposed to \"reinventing the wheel.\"  This includes using their Solver, various utility functions, and their layer structure.  This also includes nndl.fc_net, nndl.layers, and nndl.layer_utils.  As in prior assignments, we thank Serena Yeung & Justin Johnson for permission to use code written for the CS 231n class (cs231n.stanford.edu).  "
   ]
  },
  {
   "cell_type": "markdown",
   "metadata": {},
   "source": [
    "## Modular layers\n",
    "\n",
    "This notebook will build modular layers in the following manner.  First, there will be a forward pass for a given layer with inputs (`x`) and return the output of that layer (`out`) as well as cached variables (`cache`) that will be used to calculate the gradient in the backward pass.\n",
    "\n",
    "```python\n",
    "def layer_forward(x, w):\n",
    "  \"\"\" Receive inputs x and weights w \"\"\"\n",
    "  # Do some computations ...\n",
    "  z = # ... some intermediate value\n",
    "  # Do some more computations ...\n",
    "  out = # the output\n",
    "   \n",
    "  cache = (x, w, z, out) # Values we need to compute gradients\n",
    "   \n",
    "  return out, cache\n",
    "```\n",
    "\n",
    "The backward pass will receive upstream derivatives and the `cache` object, and will return gradients with respect to the inputs and weights, like this:\n",
    "\n",
    "```python\n",
    "def layer_backward(dout, cache):\n",
    "  \"\"\"\n",
    "  Receive derivative of loss with respect to outputs and cache,\n",
    "  and compute derivative with respect to inputs.\n",
    "  \"\"\"\n",
    "  # Unpack cache values\n",
    "  x, w, z, out = cache\n",
    "  \n",
    "  # Use values in cache to compute derivatives\n",
    "  dx = # Derivative of loss with respect to x\n",
    "  dw = # Derivative of loss with respect to w\n",
    "  \n",
    "  return dx, dw\n",
    "```"
   ]
  },
  {
   "cell_type": "code",
   "execution_count": 17,
   "metadata": {},
   "outputs": [
    {
     "name": "stdout",
     "output_type": "stream",
     "text": [
      "The autoreload extension is already loaded. To reload it, use:\n",
      "  %reload_ext autoreload\n"
     ]
    }
   ],
   "source": [
    "## Import and setups\n",
    "\n",
    "import time\n",
    "import numpy as np\n",
    "import matplotlib.pyplot as plt\n",
    "from nndl.fc_net import *\n",
    "from cs231n.data_utils import get_CIFAR10_data\n",
    "from cs231n.gradient_check import eval_numerical_gradient, eval_numerical_gradient_array\n",
    "from cs231n.solver import Solver\n",
    "\n",
    "%matplotlib inline\n",
    "plt.rcParams['figure.figsize'] = (10.0, 8.0) # set default size of plots\n",
    "plt.rcParams['image.interpolation'] = 'nearest'\n",
    "plt.rcParams['image.cmap'] = 'gray'\n",
    "\n",
    "# for auto-reloading external modules\n",
    "# see http://stackoverflow.com/questions/1907993/autoreload-of-modules-in-ipython\n",
    "%load_ext autoreload\n",
    "%autoreload 2\n",
    "\n",
    "def rel_error(x, y):\n",
    "  \"\"\" returns relative error \"\"\"\n",
    "  return np.max(np.abs(x - y) / (np.maximum(1e-8, np.abs(x) + np.abs(y))))"
   ]
  },
  {
   "cell_type": "code",
   "execution_count": 18,
   "metadata": {},
   "outputs": [
    {
     "name": "stdout",
     "output_type": "stream",
     "text": [
      "X_val: (1000, 3, 32, 32) \n",
      "X_train: (49000, 3, 32, 32) \n",
      "X_test: (1000, 3, 32, 32) \n",
      "y_val: (1000,) \n",
      "y_train: (49000,) \n",
      "y_test: (1000,) \n"
     ]
    }
   ],
   "source": [
    "# Load the (preprocessed) CIFAR10 data.\n",
    "\n",
    "data = get_CIFAR10_data()\n",
    "for k in data.keys():\n",
    "  print('{}: {} '.format(k, data[k].shape))"
   ]
  },
  {
   "cell_type": "markdown",
   "metadata": {},
   "source": [
    "## Linear layers\n",
    "\n",
    "In this section, we'll implement the forward and backward pass for the linear layers.\n",
    "\n",
    "The linear layer forward pass is the function `affine_forward` in `nndl/layers.py` and the backward pass is `affine_backward`.\n",
    "\n",
    "After you have implemented these, test your implementation by running the cell below."
   ]
  },
  {
   "cell_type": "markdown",
   "metadata": {},
   "source": [
    "### Affine layer forward pass\n",
    "\n",
    "Implement `affine_forward` and then test your code by running the following cell."
   ]
  },
  {
   "cell_type": "code",
   "execution_count": 19,
   "metadata": {},
   "outputs": [
    {
     "name": "stdout",
     "output_type": "stream",
     "text": [
      "Testing affine_forward function:\n",
      "difference: 9.76984946819e-10\n"
     ]
    }
   ],
   "source": [
    "# Test the affine_forward function\n",
    "\n",
    "num_inputs = 2\n",
    "input_shape = (4, 5, 6)\n",
    "output_dim = 3\n",
    "\n",
    "input_size = num_inputs * np.prod(input_shape)\n",
    "weight_size = output_dim * np.prod(input_shape)\n",
    "\n",
    "x = np.linspace(-0.1, 0.5, num=input_size).reshape(num_inputs, *input_shape)\n",
    "w = np.linspace(-0.2, 0.3, num=weight_size).reshape(np.prod(input_shape), output_dim)\n",
    "b = np.linspace(-0.3, 0.1, num=output_dim)\n",
    "\n",
    "out, _ = affine_forward(x, w, b)\n",
    "correct_out = np.array([[ 1.49834967,  1.70660132,  1.91485297],\n",
    "                        [ 3.25553199,  3.5141327,   3.77273342]])\n",
    "\n",
    "# Compare your output with ours. The error should be around 1e-9.\n",
    "print('Testing affine_forward function:')\n",
    "print('difference: {}'.format(rel_error(out, correct_out)))"
   ]
  },
  {
   "cell_type": "markdown",
   "metadata": {},
   "source": [
    "### Affine layer backward pass\n",
    "\n",
    "Implement `affine_backward` and then test your code by running the following cell."
   ]
  },
  {
   "cell_type": "code",
   "execution_count": 20,
   "metadata": {},
   "outputs": [
    {
     "name": "stdout",
     "output_type": "stream",
     "text": [
      "Testing affine_backward function:\n",
      "dx error: 3.46064689633e-10\n",
      "dw error: 4.1324778006e-11\n",
      "db error: 1.20919878274e-10\n"
     ]
    }
   ],
   "source": [
    "# Test the affine_backward function\n",
    "\n",
    "x = np.random.randn(10, 2, 3)\n",
    "w = np.random.randn(6, 5)\n",
    "b = np.random.randn(5)\n",
    "dout = np.random.randn(10, 5)\n",
    "\n",
    "dx_num = eval_numerical_gradient_array(lambda x: affine_forward(x, w, b)[0], x, dout)\n",
    "dw_num = eval_numerical_gradient_array(lambda w: affine_forward(x, w, b)[0], w, dout)\n",
    "db_num = eval_numerical_gradient_array(lambda b: affine_forward(x, w, b)[0], b, dout)\n",
    "\n",
    "_, cache = affine_forward(x, w, b)\n",
    "dx, dw, db = affine_backward(dout, cache)\n",
    "\n",
    "# The error should be around 1e-10\n",
    "print('Testing affine_backward function:')\n",
    "print('dx error: {}'.format(rel_error(dx_num, dx)))\n",
    "print('dw error: {}'.format(rel_error(dw_num, dw)))\n",
    "print('db error: {}'.format(rel_error(db_num, db)))"
   ]
  },
  {
   "cell_type": "markdown",
   "metadata": {},
   "source": [
    "## Activation layers\n",
    "\n",
    "In this section you'll implement the ReLU activation."
   ]
  },
  {
   "cell_type": "markdown",
   "metadata": {},
   "source": [
    "### ReLU forward pass\n",
    "\n",
    "Implement the `relu_forward` function in `nndl/layers.py` and then test your code by running the following cell."
   ]
  },
  {
   "cell_type": "code",
   "execution_count": 21,
   "metadata": {},
   "outputs": [
    {
     "name": "stdout",
     "output_type": "stream",
     "text": [
      "Testing relu_forward function:\n",
      "difference: 4.99999979802e-08\n"
     ]
    }
   ],
   "source": [
    "# Test the relu_forward function\n",
    "\n",
    "x = np.linspace(-0.5, 0.5, num=12).reshape(3, 4)\n",
    "\n",
    "out, _ = relu_forward(x)\n",
    "correct_out = np.array([[ 0.,          0.,          0.,          0.,        ],\n",
    "                        [ 0.,          0.,          0.04545455,  0.13636364,],\n",
    "                        [ 0.22727273,  0.31818182,  0.40909091,  0.5,       ]])\n",
    "\n",
    "\n",
    "# Compare your output with ours. The error should be around 1e-8\n",
    "print('Testing relu_forward function:')\n",
    "print('difference: {}'.format(rel_error(out, correct_out)))"
   ]
  },
  {
   "cell_type": "markdown",
   "metadata": {},
   "source": [
    "### ReLU backward pass\n",
    "Implement the `relu_backward` function in `nndl/layers.py` and then test your code by running the following cell."
   ]
  },
  {
   "cell_type": "code",
   "execution_count": 22,
   "metadata": {},
   "outputs": [
    {
     "name": "stdout",
     "output_type": "stream",
     "text": [
      "Testing relu_backward function:\n",
      "dx error: 3.27561224104e-12\n"
     ]
    }
   ],
   "source": [
    "x = np.random.randn(10, 10)\n",
    "dout = np.random.randn(*x.shape)\n",
    "\n",
    "dx_num = eval_numerical_gradient_array(lambda x: relu_forward(x)[0], x, dout)\n",
    "\n",
    "_, cache = relu_forward(x)\n",
    "dx = relu_backward(dout, cache)\n",
    "# The error should be around 1e-12\n",
    "print('Testing relu_backward function:')\n",
    "print('dx error: {}'.format(rel_error(dx_num, dx)))"
   ]
  },
  {
   "cell_type": "markdown",
   "metadata": {},
   "source": [
    "## Combining the affine and ReLU layers\n",
    "\n",
    "Often times, an affine layer will be followed by a ReLU layer. So let's make one that puts them together.  Layers that are combined are stored in `nndl/layer_utils.py`.  "
   ]
  },
  {
   "cell_type": "markdown",
   "metadata": {},
   "source": [
    "### Affine-ReLU layers\n",
    "We've implemented `affine_relu_forward()` and `affine_relu_backward` in ``nndl/layer_utils.py``.  Take a look at them to make sure you understand what's going on.  Then run the following cell to ensure its implemented correctly."
   ]
  },
  {
   "cell_type": "code",
   "execution_count": 23,
   "metadata": {},
   "outputs": [
    {
     "name": "stdout",
     "output_type": "stream",
     "text": [
      "Testing affine_relu_forward and affine_relu_backward:\n",
      "dx error: 1.9665506053e-10\n",
      "dw error: 3.09310909442e-10\n",
      "db error: 7.82664891378e-12\n"
     ]
    }
   ],
   "source": [
    "from nndl.layer_utils import affine_relu_forward, affine_relu_backward\n",
    "\n",
    "x = np.random.randn(2, 3, 4)\n",
    "w = np.random.randn(12, 10)\n",
    "b = np.random.randn(10)\n",
    "dout = np.random.randn(2, 10)\n",
    "\n",
    "out, cache = affine_relu_forward(x, w, b)\n",
    "dx, dw, db = affine_relu_backward(dout, cache)\n",
    "\n",
    "dx_num = eval_numerical_gradient_array(lambda x: affine_relu_forward(x, w, b)[0], x, dout)\n",
    "dw_num = eval_numerical_gradient_array(lambda w: affine_relu_forward(x, w, b)[0], w, dout)\n",
    "db_num = eval_numerical_gradient_array(lambda b: affine_relu_forward(x, w, b)[0], b, dout)\n",
    "\n",
    "print('Testing affine_relu_forward and affine_relu_backward:')\n",
    "print('dx error: {}'.format(rel_error(dx_num, dx)))\n",
    "print('dw error: {}'.format(rel_error(dw_num, dw)))\n",
    "print('db error: {}'.format(rel_error(db_num, db)))"
   ]
  },
  {
   "cell_type": "markdown",
   "metadata": {},
   "source": [
    "## Softmax and SVM losses\n",
    "\n",
    "You've already implemented these, so we have written these in `layers.py`.  The following code will ensure they are working correctly."
   ]
  },
  {
   "cell_type": "code",
   "execution_count": 25,
   "metadata": {},
   "outputs": [
    {
     "name": "stdout",
     "output_type": "stream",
     "text": [
      "Testing svm_loss:\n",
      "loss: 8.9995309235\n",
      "dx error: 1.40215660067e-09\n",
      "\n",
      "Testing softmax_loss:\n",
      "loss: 2.30253858784\n",
      "dx error: 9.38119638728e-09\n"
     ]
    }
   ],
   "source": [
    "num_classes, num_inputs = 10, 50\n",
    "x = 0.001 * np.random.randn(num_inputs, num_classes)\n",
    "y = np.random.randint(num_classes, size=num_inputs)\n",
    "\n",
    "dx_num = eval_numerical_gradient(lambda x: svm_loss(x, y)[0], x, verbose=False)\n",
    "loss, dx = svm_loss(x, y)\n",
    "\n",
    "# Test svm_loss function. Loss should be around 9 and dx error should be 1e-9\n",
    "print('Testing svm_loss:')\n",
    "print('loss: {}'.format(loss))\n",
    "print('dx error: {}'.format(rel_error(dx_num, dx)))\n",
    "\n",
    "dx_num = eval_numerical_gradient(lambda x: softmax_loss(x, y)[0], x, verbose=False)\n",
    "loss, dx = softmax_loss(x, y)\n",
    "\n",
    "# Test softmax_loss function. Loss should be 2.3 and dx error should be 1e-8\n",
    "print('\\nTesting softmax_loss:')\n",
    "print('loss: {}'.format(loss))\n",
    "print('dx error: {}'.format(rel_error(dx_num, dx)))"
   ]
  },
  {
   "cell_type": "markdown",
   "metadata": {},
   "source": [
    "## Implementation of a two-layer NN\n",
    "\n",
    "In `nndl/fc_net.py`, implement the class `TwoLayerNet` which uses the layers you made here.  When you have finished, the following cell will test your implementation."
   ]
  },
  {
   "cell_type": "code",
   "execution_count": 27,
   "metadata": {},
   "outputs": [
    {
     "name": "stdout",
     "output_type": "stream",
     "text": [
      "Testing initialization ... \n",
      "Testing test-time forward pass ... \n",
      "Testing training loss (no regularization)\n",
      "Running numeric gradient check with reg = 0.0\n",
      "W1 relative error: 1.83365627867e-08\n",
      "W2 relative error: 3.11807423476e-10\n",
      "b1 relative error: 9.82831520464e-09\n",
      "b2 relative error: 4.32913495457e-10\n",
      "Running numeric gradient check with reg = 0.7\n",
      "W1 relative error: 2.52791523102e-07\n",
      "W2 relative error: 7.97665280616e-08\n",
      "b1 relative error: 1.34676189626e-08\n",
      "b2 relative error: 7.75909428384e-10\n"
     ]
    }
   ],
   "source": [
    "N, D, H, C = 3, 5, 50, 7\n",
    "X = np.random.randn(N, D)\n",
    "y = np.random.randint(C, size=N)\n",
    "\n",
    "std = 1e-2\n",
    "model = TwoLayerNet(input_dim=D, hidden_dims=H, num_classes=C, weight_scale=std)\n",
    "\n",
    "print('Testing initialization ... ')\n",
    "W1_std = abs(model.params['W1'].std() - std)\n",
    "b1 = model.params['b1']\n",
    "W2_std = abs(model.params['W2'].std() - std)\n",
    "b2 = model.params['b2']\n",
    "assert W1_std < std / 10, 'First layer weights do not seem right'\n",
    "assert np.all(b1 == 0), 'First layer biases do not seem right'\n",
    "assert W2_std < std / 10, 'Second layer weights do not seem right'\n",
    "assert np.all(b2 == 0), 'Second layer biases do not seem right'\n",
    "\n",
    "print('Testing test-time forward pass ... ')\n",
    "model.params['W1'] = np.linspace(-0.7, 0.3, num=D*H).reshape(D, H)\n",
    "model.params['b1'] = np.linspace(-0.1, 0.9, num=H)\n",
    "model.params['W2'] = np.linspace(-0.3, 0.4, num=H*C).reshape(H, C)\n",
    "model.params['b2'] = np.linspace(-0.9, 0.1, num=C)\n",
    "X = np.linspace(-5.5, 4.5, num=N*D).reshape(D, N).T\n",
    "scores = model.loss(X)\n",
    "correct_scores = np.asarray(\n",
    "  [[11.53165108,  12.2917344,   13.05181771,  13.81190102,  14.57198434, 15.33206765,  16.09215096],\n",
    "   [12.05769098,  12.74614105,  13.43459113,  14.1230412,   14.81149128, 15.49994135,  16.18839143],\n",
    "   [12.58373087,  13.20054771,  13.81736455,  14.43418138,  15.05099822, 15.66781506,  16.2846319 ]])\n",
    "scores_diff = np.abs(scores - correct_scores).sum()\n",
    "assert scores_diff < 1e-6, 'Problem with test-time forward pass'\n",
    "\n",
    "print('Testing training loss (no regularization)')\n",
    "y = np.asarray([0, 5, 1])\n",
    "loss, grads = model.loss(X, y)\n",
    "correct_loss = 3.4702243556\n",
    "assert abs(loss - correct_loss) < 1e-10, 'Problem with training-time loss'\n",
    "\n",
    "model.reg = 1.0\n",
    "loss, grads = model.loss(X, y)\n",
    "correct_loss = 26.5948426952\n",
    "assert abs(loss - correct_loss) < 1e-10, 'Problem with regularization loss'\n",
    "\n",
    "for reg in [0.0, 0.7]:\n",
    "  print('Running numeric gradient check with reg = {}'.format(reg))\n",
    "  model.reg = reg\n",
    "  loss, grads = model.loss(X, y)\n",
    "\n",
    "  for name in sorted(grads):\n",
    "    f = lambda _: model.loss(X, y)[0]\n",
    "    grad_num = eval_numerical_gradient(f, model.params[name], verbose=False)\n",
    "    print('{} relative error: {}'.format(name, rel_error(grad_num, grads[name])))"
   ]
  },
  {
   "cell_type": "markdown",
   "metadata": {},
   "source": [
    "## Solver \n",
    "\n",
    "We will now use the cs231n Solver class to train these networks.  Familiarize yourself with the API in `cs231n/solver.py`.  After you have done so, declare an instance of a TwoLayerNet with 200 units and then train it with the Solver.  Choose parameters so that your validation accuracy is at least 50%."
   ]
  },
  {
   "cell_type": "code",
   "execution_count": 28,
   "metadata": {
    "scrolled": false
   },
   "outputs": [
    {
     "name": "stdout",
     "output_type": "stream",
     "text": [
      "(Iteration 1 / 2450) loss: 2.380889\n",
      "(Epoch 0 / 10) train acc: 0.163000; val_acc: 0.143000\n",
      "(Epoch 1 / 10) train acc: 0.441000; val_acc: 0.427000\n",
      "(Epoch 2 / 10) train acc: 0.472000; val_acc: 0.457000\n",
      "(Iteration 491 / 2450) loss: 1.604937\n",
      "(Epoch 3 / 10) train acc: 0.531000; val_acc: 0.475000\n",
      "(Epoch 4 / 10) train acc: 0.537000; val_acc: 0.499000\n",
      "(Iteration 981 / 2450) loss: 1.418676\n",
      "(Epoch 5 / 10) train acc: 0.540000; val_acc: 0.504000\n",
      "(Epoch 6 / 10) train acc: 0.587000; val_acc: 0.493000\n",
      "(Iteration 1471 / 2450) loss: 1.406823\n",
      "(Epoch 7 / 10) train acc: 0.583000; val_acc: 0.513000\n",
      "(Epoch 8 / 10) train acc: 0.602000; val_acc: 0.514000\n",
      "(Iteration 1961 / 2450) loss: 1.217903\n",
      "(Epoch 9 / 10) train acc: 0.588000; val_acc: 0.522000\n",
      "(Epoch 10 / 10) train acc: 0.596000; val_acc: 0.527000\n"
     ]
    }
   ],
   "source": [
    "model = TwoLayerNet()\n",
    "solver = None\n",
    "\n",
    "# ================================================================ #\n",
    "# YOUR CODE HERE:\n",
    "#   Declare an instance of a TwoLayerNet and then train \n",
    "#   it with the Solver. Choose hyperparameters so that your validation \n",
    "#   accuracy is at least 40%.  We won't have you optimize this further\n",
    "#   since you did it in the previous notebook.\n",
    "# ================================================================ #\n",
    "\n",
    "model = TwoLayerNet(hidden_dims=200, reg=.25)\n",
    "\n",
    "solver = Solver(model, data, print_every=490,\n",
    "               batch_size=200,\n",
    "               lr_decay=.95,\n",
    "               optim_config = {\n",
    "                   'learning_rate' : 1e-3,\n",
    "               })\n",
    "\n",
    "solver.train()\n",
    "\n",
    "\n",
    "\n",
    "\n",
    "# ================================================================ #\n",
    "# END YOUR CODE HERE\n",
    "# ================================================================ #"
   ]
  },
  {
   "cell_type": "code",
   "execution_count": 29,
   "metadata": {},
   "outputs": [
    {
     "data": {
      "image/png": "[encoded data removed]",
      "text/plain": [
       "<matplotlib.figure.Figure at 0x7f0fd6929ad0>"
      ]
     },
     "metadata": {},
     "output_type": "display_data"
    }
   ],
   "source": [
    "# Run this cell to visualize training loss and train / val accuracy\n",
    "\n",
    "plt.subplot(2, 1, 1)\n",
    "plt.title('Training loss')\n",
    "plt.plot(solver.loss_history, 'o')\n",
    "plt.xlabel('Iteration')\n",
    "\n",
    "plt.subplot(2, 1, 2)\n",
    "plt.title('Accuracy')\n",
    "plt.plot(solver.train_acc_history, '-o', label='train')\n",
    "plt.plot(solver.val_acc_history, '-o', label='val')\n",
    "plt.plot([0.5] * len(solver.val_acc_history), 'k--')\n",
    "plt.xlabel('Epoch')\n",
    "plt.legend(loc='lower right')\n",
    "plt.gcf().set_size_inches(15, 12)\n",
    "plt.show()"
   ]
  },
  {
   "cell_type": "markdown",
   "metadata": {},
   "source": [
    "## Multilayer Neural Network\n",
    "\n",
    "Now, we implement a multi-layer neural network.\n",
    "\n",
    "Read through the `FullyConnectedNet` class in the file `nndl/fc_net.py`.\n",
    "\n",
    "Implement the initialization, the forward pass, and the backward pass.  There will be lines for batchnorm and dropout layers and caches; ignore these all for now.  That'll be in assignment #4."
   ]
  },
  {
   "cell_type": "code",
   "execution_count": 30,
   "metadata": {},
   "outputs": [
    {
     "name": "stdout",
     "output_type": "stream",
     "text": [
      "Running check with reg = 0\n",
      "Initial loss: 2.30480189901\n",
      "W1 relative error: 2.46042998558e-07\n",
      "W2 relative error: 6.94155361465e-07\n",
      "W3 relative error: 7.83092639081e-07\n",
      "b1 relative error: 2.12890004246e-08\n",
      "b2 relative error: 3.99158504752e-09\n",
      "b3 relative error: 1.0142506691e-10\n",
      "Running check with reg = 3.14\n",
      "Initial loss: 7.04625653723\n",
      "W1 relative error: 2.9680779336e-08\n",
      "W2 relative error: 4.93665509024e-08\n",
      "W3 relative error: 2.37616575474e-08\n",
      "b1 relative error: 2.20268635701e-08\n",
      "b2 relative error: 2.95832119453e-09\n",
      "b3 relative error: 1.7425722198e-10\n"
     ]
    }
   ],
   "source": [
    "N, D, H1, H2, C = 2, 15, 20, 30, 10\n",
    "\n",
    "np.random.seed(1)\n",
    "X = np.random.randn(N, D)\n",
    "y = np.random.randint(C, size=(N,))\n",
    "\n",
    "for reg in [0, 3.14]:\n",
    "  print('Running check with reg = {}'.format(reg))\n",
    "  model = FullyConnectedNet([H1, H2], input_dim=D, num_classes=C,\n",
    "                            reg=reg, weight_scale=5e-2, dtype=np.float64)\n",
    "\n",
    "  loss, grads = model.loss(X, y)\n",
    "  print('Initial loss: {}'.format(loss))\n",
    "\n",
    "  for name in sorted(grads):\n",
    "    f = lambda _: model.loss(X, y)[0]\n",
    "    grad_num = eval_numerical_gradient(f, model.params[name], verbose=False, h=1e-5)\n",
    "    print('{} relative error: {}'.format(name, rel_error(grad_num, grads[name])))"
   ]
  },
  {
   "cell_type": "code",
   "execution_count": 31,
   "metadata": {},
   "outputs": [
    {
     "name": "stdout",
     "output_type": "stream",
     "text": [
      "(Iteration 1 / 400) loss: 2.323848\n",
      "(Epoch 0 / 200) train acc: 0.100000; val_acc: 0.116000\n",
      "(Epoch 1 / 200) train acc: 0.140000; val_acc: 0.126000\n",
      "(Epoch 2 / 200) train acc: 0.120000; val_acc: 0.124000\n",
      "(Epoch 3 / 200) train acc: 0.220000; val_acc: 0.120000\n",
      "(Epoch 4 / 200) train acc: 0.280000; val_acc: 0.114000\n",
      "(Epoch 5 / 200) train acc: 0.320000; val_acc: 0.125000\n",
      "(Epoch 6 / 200) train acc: 0.360000; val_acc: 0.124000\n",
      "(Epoch 7 / 200) train acc: 0.280000; val_acc: 0.125000\n",
      "(Epoch 8 / 200) train acc: 0.280000; val_acc: 0.126000\n",
      "(Epoch 9 / 200) train acc: 0.340000; val_acc: 0.130000\n",
      "(Epoch 10 / 200) train acc: 0.400000; val_acc: 0.130000\n",
      "(Epoch 11 / 200) train acc: 0.400000; val_acc: 0.134000\n",
      "(Epoch 12 / 200) train acc: 0.400000; val_acc: 0.138000\n",
      "(Epoch 13 / 200) train acc: 0.400000; val_acc: 0.138000\n",
      "(Epoch 14 / 200) train acc: 0.420000; val_acc: 0.142000\n",
      "(Epoch 15 / 200) train acc: 0.440000; val_acc: 0.144000\n",
      "(Epoch 16 / 200) train acc: 0.440000; val_acc: 0.145000\n",
      "(Epoch 17 / 200) train acc: 0.500000; val_acc: 0.140000\n",
      "(Epoch 18 / 200) train acc: 0.440000; val_acc: 0.140000\n",
      "(Epoch 19 / 200) train acc: 0.460000; val_acc: 0.141000\n",
      "(Epoch 20 / 200) train acc: 0.500000; val_acc: 0.147000\n",
      "(Epoch 21 / 200) train acc: 0.540000; val_acc: 0.146000\n",
      "(Epoch 22 / 200) train acc: 0.500000; val_acc: 0.150000\n",
      "(Epoch 23 / 200) train acc: 0.560000; val_acc: 0.147000\n",
      "(Epoch 24 / 200) train acc: 0.540000; val_acc: 0.142000\n",
      "(Epoch 25 / 200) train acc: 0.560000; val_acc: 0.145000\n",
      "(Epoch 26 / 200) train acc: 0.580000; val_acc: 0.155000\n",
      "(Epoch 27 / 200) train acc: 0.580000; val_acc: 0.149000\n",
      "(Epoch 28 / 200) train acc: 0.640000; val_acc: 0.146000\n",
      "(Epoch 29 / 200) train acc: 0.640000; val_acc: 0.150000\n",
      "(Epoch 30 / 200) train acc: 0.640000; val_acc: 0.153000\n",
      "(Epoch 31 / 200) train acc: 0.640000; val_acc: 0.155000\n",
      "(Epoch 32 / 200) train acc: 0.700000; val_acc: 0.159000\n",
      "(Epoch 33 / 200) train acc: 0.700000; val_acc: 0.162000\n",
      "(Epoch 34 / 200) train acc: 0.700000; val_acc: 0.160000\n",
      "(Epoch 35 / 200) train acc: 0.740000; val_acc: 0.166000\n",
      "(Epoch 36 / 200) train acc: 0.720000; val_acc: 0.167000\n",
      "(Epoch 37 / 200) train acc: 0.740000; val_acc: 0.162000\n",
      "(Epoch 38 / 200) train acc: 0.680000; val_acc: 0.162000\n",
      "(Epoch 39 / 200) train acc: 0.720000; val_acc: 0.167000\n",
      "(Epoch 40 / 200) train acc: 0.760000; val_acc: 0.166000\n",
      "(Epoch 41 / 200) train acc: 0.780000; val_acc: 0.172000\n",
      "(Epoch 42 / 200) train acc: 0.820000; val_acc: 0.180000\n",
      "(Epoch 43 / 200) train acc: 0.840000; val_acc: 0.182000\n",
      "(Epoch 44 / 200) train acc: 0.840000; val_acc: 0.187000\n",
      "(Epoch 45 / 200) train acc: 0.840000; val_acc: 0.185000\n",
      "(Epoch 46 / 200) train acc: 0.840000; val_acc: 0.179000\n",
      "(Epoch 47 / 200) train acc: 0.840000; val_acc: 0.184000\n",
      "(Epoch 48 / 200) train acc: 0.820000; val_acc: 0.174000\n",
      "(Epoch 49 / 200) train acc: 0.820000; val_acc: 0.182000\n",
      "(Epoch 50 / 200) train acc: 0.820000; val_acc: 0.184000\n",
      "(Epoch 51 / 200) train acc: 0.820000; val_acc: 0.179000\n",
      "(Epoch 52 / 200) train acc: 0.860000; val_acc: 0.181000\n",
      "(Epoch 53 / 200) train acc: 0.880000; val_acc: 0.179000\n",
      "(Epoch 54 / 200) train acc: 0.920000; val_acc: 0.179000\n",
      "(Epoch 55 / 200) train acc: 0.920000; val_acc: 0.184000\n",
      "(Epoch 56 / 200) train acc: 0.920000; val_acc: 0.190000\n",
      "(Epoch 57 / 200) train acc: 0.900000; val_acc: 0.193000\n",
      "(Epoch 58 / 200) train acc: 0.900000; val_acc: 0.193000\n",
      "(Epoch 59 / 200) train acc: 0.880000; val_acc: 0.177000\n",
      "(Epoch 60 / 200) train acc: 0.940000; val_acc: 0.179000\n",
      "(Epoch 61 / 200) train acc: 0.960000; val_acc: 0.190000\n",
      "(Epoch 62 / 200) train acc: 0.960000; val_acc: 0.187000\n",
      "(Epoch 63 / 200) train acc: 0.960000; val_acc: 0.182000\n",
      "(Epoch 64 / 200) train acc: 0.940000; val_acc: 0.188000\n",
      "(Epoch 65 / 200) train acc: 0.940000; val_acc: 0.180000\n",
      "(Epoch 66 / 200) train acc: 0.940000; val_acc: 0.182000\n",
      "(Epoch 67 / 200) train acc: 0.920000; val_acc: 0.179000\n",
      "(Epoch 68 / 200) train acc: 0.940000; val_acc: 0.184000\n",
      "(Epoch 69 / 200) train acc: 0.960000; val_acc: 0.187000\n",
      "(Epoch 70 / 200) train acc: 0.960000; val_acc: 0.188000\n",
      "(Epoch 71 / 200) train acc: 0.960000; val_acc: 0.189000\n",
      "(Epoch 72 / 200) train acc: 0.960000; val_acc: 0.183000\n",
      "(Epoch 73 / 200) train acc: 0.960000; val_acc: 0.189000\n",
      "(Epoch 74 / 200) train acc: 0.960000; val_acc: 0.189000\n",
      "(Epoch 75 / 200) train acc: 0.960000; val_acc: 0.192000\n",
      "(Epoch 76 / 200) train acc: 0.980000; val_acc: 0.190000\n",
      "(Epoch 77 / 200) train acc: 0.960000; val_acc: 0.188000\n",
      "(Epoch 78 / 200) train acc: 0.980000; val_acc: 0.194000\n",
      "(Epoch 79 / 200) train acc: 0.980000; val_acc: 0.194000\n",
      "(Epoch 80 / 200) train acc: 0.980000; val_acc: 0.198000\n",
      "(Epoch 81 / 200) train acc: 0.980000; val_acc: 0.198000\n",
      "(Epoch 82 / 200) train acc: 0.960000; val_acc: 0.194000\n",
      "(Epoch 83 / 200) train acc: 0.960000; val_acc: 0.197000\n",
      "(Epoch 84 / 200) train acc: 0.980000; val_acc: 0.198000\n",
      "(Epoch 85 / 200) train acc: 0.980000; val_acc: 0.200000\n",
      "(Epoch 86 / 200) train acc: 0.980000; val_acc: 0.197000\n",
      "(Epoch 87 / 200) train acc: 0.980000; val_acc: 0.189000\n",
      "(Epoch 88 / 200) train acc: 0.980000; val_acc: 0.190000\n",
      "(Epoch 89 / 200) train acc: 1.000000; val_acc: 0.190000\n",
      "(Epoch 90 / 200) train acc: 1.000000; val_acc: 0.189000\n",
      "(Epoch 91 / 200) train acc: 1.000000; val_acc: 0.193000\n",
      "(Epoch 92 / 200) train acc: 1.000000; val_acc: 0.191000\n",
      "(Epoch 93 / 200) train acc: 1.000000; val_acc: 0.193000\n",
      "(Epoch 94 / 200) train acc: 1.000000; val_acc: 0.188000\n",
      "(Epoch 95 / 200) train acc: 1.000000; val_acc: 0.186000\n",
      "(Epoch 96 / 200) train acc: 1.000000; val_acc: 0.186000\n",
      "(Epoch 97 / 200) train acc: 1.000000; val_acc: 0.187000\n",
      "(Epoch 98 / 200) train acc: 1.000000; val_acc: 0.192000\n",
      "(Epoch 99 / 200) train acc: 1.000000; val_acc: 0.188000\n",
      "(Epoch 100 / 200) train acc: 1.000000; val_acc: 0.192000\n",
      "(Epoch 101 / 200) train acc: 1.000000; val_acc: 0.190000\n",
      "(Epoch 102 / 200) train acc: 1.000000; val_acc: 0.187000\n",
      "(Epoch 103 / 200) train acc: 1.000000; val_acc: 0.191000\n",
      "(Epoch 104 / 200) train acc: 1.000000; val_acc: 0.196000\n",
      "(Epoch 105 / 200) train acc: 1.000000; val_acc: 0.190000\n",
      "(Epoch 106 / 200) train acc: 1.000000; val_acc: 0.190000\n",
      "(Epoch 107 / 200) train acc: 1.000000; val_acc: 0.184000\n",
      "(Epoch 108 / 200) train acc: 1.000000; val_acc: 0.184000\n",
      "(Epoch 109 / 200) train acc: 1.000000; val_acc: 0.187000\n",
      "(Epoch 110 / 200) train acc: 1.000000; val_acc: 0.187000\n",
      "(Epoch 111 / 200) train acc: 1.000000; val_acc: 0.190000\n",
      "(Epoch 112 / 200) train acc: 1.000000; val_acc: 0.192000\n",
      "(Epoch 113 / 200) train acc: 1.000000; val_acc: 0.190000\n",
      "(Epoch 114 / 200) train acc: 1.000000; val_acc: 0.188000\n",
      "(Epoch 115 / 200) train acc: 1.000000; val_acc: 0.189000\n",
      "(Epoch 116 / 200) train acc: 1.000000; val_acc: 0.188000\n",
      "(Epoch 117 / 200) train acc: 1.000000; val_acc: 0.189000\n",
      "(Epoch 118 / 200) train acc: 1.000000; val_acc: 0.188000\n",
      "(Epoch 119 / 200) train acc: 1.000000; val_acc: 0.189000\n",
      "(Epoch 120 / 200) train acc: 1.000000; val_acc: 0.192000\n",
      "(Epoch 121 / 200) train acc: 1.000000; val_acc: 0.192000\n",
      "(Epoch 122 / 200) train acc: 1.000000; val_acc: 0.191000\n",
      "(Epoch 123 / 200) train acc: 1.000000; val_acc: 0.190000\n",
      "(Epoch 124 / 200) train acc: 1.000000; val_acc: 0.192000\n",
      "(Epoch 125 / 200) train acc: 1.000000; val_acc: 0.192000\n",
      "(Epoch 126 / 200) train acc: 1.000000; val_acc: 0.192000\n",
      "(Epoch 127 / 200) train acc: 1.000000; val_acc: 0.190000\n",
      "(Epoch 128 / 200) train acc: 1.000000; val_acc: 0.190000\n",
      "(Epoch 129 / 200) train acc: 1.000000; val_acc: 0.190000\n",
      "(Epoch 130 / 200) train acc: 1.000000; val_acc: 0.189000\n",
      "(Epoch 131 / 200) train acc: 1.000000; val_acc: 0.192000\n",
      "(Epoch 132 / 200) train acc: 1.000000; val_acc: 0.191000\n",
      "(Epoch 133 / 200) train acc: 1.000000; val_acc: 0.191000\n",
      "(Epoch 134 / 200) train acc: 1.000000; val_acc: 0.193000\n",
      "(Epoch 135 / 200) train acc: 1.000000; val_acc: 0.190000\n",
      "(Epoch 136 / 200) train acc: 1.000000; val_acc: 0.191000\n",
      "(Epoch 137 / 200) train acc: 1.000000; val_acc: 0.190000\n",
      "(Epoch 138 / 200) train acc: 1.000000; val_acc: 0.191000\n",
      "(Epoch 139 / 200) train acc: 1.000000; val_acc: 0.190000\n",
      "(Epoch 140 / 200) train acc: 1.000000; val_acc: 0.191000\n",
      "(Epoch 141 / 200) train acc: 1.000000; val_acc: 0.189000\n",
      "(Epoch 142 / 200) train acc: 1.000000; val_acc: 0.188000\n",
      "(Epoch 143 / 200) train acc: 1.000000; val_acc: 0.190000\n",
      "(Epoch 144 / 200) train acc: 1.000000; val_acc: 0.192000\n",
      "(Epoch 145 / 200) train acc: 1.000000; val_acc: 0.188000\n"
     ]
    },
    {
     "name": "stdout",
     "output_type": "stream",
     "text": [
      "(Epoch 146 / 200) train acc: 1.000000; val_acc: 0.188000\n",
      "(Epoch 147 / 200) train acc: 1.000000; val_acc: 0.190000\n",
      "(Epoch 148 / 200) train acc: 1.000000; val_acc: 0.190000\n",
      "(Epoch 149 / 200) train acc: 1.000000; val_acc: 0.190000\n",
      "(Epoch 150 / 200) train acc: 1.000000; val_acc: 0.192000\n",
      "(Epoch 151 / 200) train acc: 1.000000; val_acc: 0.193000\n",
      "(Epoch 152 / 200) train acc: 1.000000; val_acc: 0.193000\n",
      "(Epoch 153 / 200) train acc: 1.000000; val_acc: 0.189000\n",
      "(Epoch 154 / 200) train acc: 1.000000; val_acc: 0.194000\n",
      "(Epoch 155 / 200) train acc: 1.000000; val_acc: 0.193000\n",
      "(Epoch 156 / 200) train acc: 1.000000; val_acc: 0.190000\n",
      "(Epoch 157 / 200) train acc: 1.000000; val_acc: 0.192000\n",
      "(Epoch 158 / 200) train acc: 1.000000; val_acc: 0.190000\n",
      "(Epoch 159 / 200) train acc: 1.000000; val_acc: 0.194000\n",
      "(Epoch 160 / 200) train acc: 1.000000; val_acc: 0.192000\n",
      "(Epoch 161 / 200) train acc: 1.000000; val_acc: 0.193000\n",
      "(Epoch 162 / 200) train acc: 1.000000; val_acc: 0.192000\n",
      "(Epoch 163 / 200) train acc: 1.000000; val_acc: 0.193000\n",
      "(Epoch 164 / 200) train acc: 1.000000; val_acc: 0.189000\n",
      "(Epoch 165 / 200) train acc: 1.000000; val_acc: 0.188000\n",
      "(Epoch 166 / 200) train acc: 1.000000; val_acc: 0.190000\n",
      "(Epoch 167 / 200) train acc: 1.000000; val_acc: 0.193000\n",
      "(Epoch 168 / 200) train acc: 1.000000; val_acc: 0.192000\n",
      "(Epoch 169 / 200) train acc: 1.000000; val_acc: 0.192000\n",
      "(Epoch 170 / 200) train acc: 1.000000; val_acc: 0.194000\n",
      "(Epoch 171 / 200) train acc: 1.000000; val_acc: 0.192000\n",
      "(Epoch 172 / 200) train acc: 1.000000; val_acc: 0.191000\n",
      "(Epoch 173 / 200) train acc: 1.000000; val_acc: 0.191000\n",
      "(Epoch 174 / 200) train acc: 1.000000; val_acc: 0.193000\n",
      "(Epoch 175 / 200) train acc: 1.000000; val_acc: 0.192000\n",
      "(Epoch 176 / 200) train acc: 1.000000; val_acc: 0.192000\n",
      "(Epoch 177 / 200) train acc: 1.000000; val_acc: 0.193000\n",
      "(Epoch 178 / 200) train acc: 1.000000; val_acc: 0.193000\n",
      "(Epoch 179 / 200) train acc: 1.000000; val_acc: 0.194000\n",
      "(Epoch 180 / 200) train acc: 1.000000; val_acc: 0.194000\n",
      "(Epoch 181 / 200) train acc: 1.000000; val_acc: 0.194000\n",
      "(Epoch 182 / 200) train acc: 1.000000; val_acc: 0.190000\n",
      "(Epoch 183 / 200) train acc: 1.000000; val_acc: 0.192000\n",
      "(Epoch 184 / 200) train acc: 1.000000; val_acc: 0.194000\n",
      "(Epoch 185 / 200) train acc: 1.000000; val_acc: 0.194000\n",
      "(Epoch 186 / 200) train acc: 1.000000; val_acc: 0.194000\n",
      "(Epoch 187 / 200) train acc: 1.000000; val_acc: 0.197000\n",
      "(Epoch 188 / 200) train acc: 1.000000; val_acc: 0.194000\n",
      "(Epoch 189 / 200) train acc: 1.000000; val_acc: 0.195000\n",
      "(Epoch 190 / 200) train acc: 1.000000; val_acc: 0.194000\n",
      "(Epoch 191 / 200) train acc: 1.000000; val_acc: 0.195000\n",
      "(Epoch 192 / 200) train acc: 1.000000; val_acc: 0.195000\n",
      "(Epoch 193 / 200) train acc: 1.000000; val_acc: 0.196000\n",
      "(Epoch 194 / 200) train acc: 1.000000; val_acc: 0.194000\n",
      "(Epoch 195 / 200) train acc: 1.000000; val_acc: 0.194000\n",
      "(Epoch 196 / 200) train acc: 1.000000; val_acc: 0.193000\n",
      "(Epoch 197 / 200) train acc: 1.000000; val_acc: 0.194000\n",
      "(Epoch 198 / 200) train acc: 1.000000; val_acc: 0.193000\n",
      "(Epoch 199 / 200) train acc: 1.000000; val_acc: 0.192000\n",
      "(Epoch 200 / 200) train acc: 1.000000; val_acc: 0.194000\n"
     ]
    },
    {
     "data": {
      "image/png": "[encoded data removed]",
      "text/plain": [
       "<matplotlib.figure.Figure at 0x7f0fd68fe310>"
      ]
     },
     "metadata": {},
     "output_type": "display_data"
    }
   ],
   "source": [
    "# Use the three layer neural network to overfit a small dataset.\n",
    "\n",
    "num_train = 50\n",
    "small_data = {\n",
    "  'X_train': data['X_train'][:num_train],\n",
    "  'y_train': data['y_train'][:num_train],\n",
    "  'X_val': data['X_val'],\n",
    "  'y_val': data['y_val'],\n",
    "}\n",
    "\n",
    "\n",
    "#### !!!!!!\n",
    "# Play around with the weight_scale and learning_rate so that you can overfit a small dataset.\n",
    "# Your training accuracy should be 1.0 to receive full credit on this part.\n",
    "weight_scale = 1e-2\n",
    "learning_rate = 1e-3\n",
    "\n",
    "model = FullyConnectedNet([100, 100],\n",
    "              weight_scale=weight_scale, dtype=np.float64)\n",
    "solver = Solver(model, small_data,\n",
    "                print_every=400, num_epochs=200, batch_size=25,\n",
    "                update_rule='sgd',\n",
    "                optim_config={\n",
    "                  'learning_rate': learning_rate,\n",
    "                }\n",
    "         )\n",
    "solver.train()\n",
    "\n",
    "plt.plot(solver.loss_history, 'o')\n",
    "plt.title('Training loss history')\n",
    "plt.xlabel('Iteration')\n",
    "plt.ylabel('Training loss')\n",
    "plt.show()"
   ]
  },
  {
   "cell_type": "code",
   "execution_count": 32,
   "metadata": {},
   "outputs": [
    {
     "name": "stdout",
     "output_type": "stream",
     "text": [
      "1.0\n"
     ]
    }
   ],
   "source": [
    "print solver.train_acc_history[-1]"
   ]
  }
 ],
 "metadata": {
  "kernelspec": {
   "display_name": "Python 2",
   "language": "python",
   "name": "python2"
  },
  "language_info": {
   "codemirror_mode": {
    "name": "ipython",
    "version": 2
   },
   "file_extension": ".py",
   "mimetype": "text/x-python",
   "name": "python",
   "nbconvert_exporter": "python",
   "pygments_lexer": "ipython2",
   "version": "2.7.12"
  }
 },
 "nbformat": 4,
 "nbformat_minor": 2
}
